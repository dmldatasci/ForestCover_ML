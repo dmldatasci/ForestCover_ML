{
 "cells": [
  {
   "cell_type": "markdown",
   "metadata": {},
   "source": [
    "# Forest Cover Type Prediction"
   ]
  },
  {
   "cell_type": "markdown",
   "metadata": {},
   "source": [
    "## Exploratory Data Analysis"
   ]
  },
  {
   "cell_type": "code",
   "execution_count": 2,
   "metadata": {},
   "outputs": [
    {
     "name": "stdout",
     "output_type": "stream",
     "text": [
      "Collecting pandas_profiling\n",
      "  Using cached pandas_profiling-3.6.6-py2.py3-none-any.whl (324 kB)\n",
      "Collecting ydata-profiling (from pandas_profiling)\n",
      "  Using cached ydata_profiling-4.1.2-py2.py3-none-any.whl (345 kB)\n",
      "Requirement already satisfied: scipy<1.10,>=1.4.1 in /opt/anaconda3/lib/python3.9/site-packages (from ydata-profiling->pandas_profiling) (1.7.3)\n",
      "Requirement already satisfied: pandas!=1.4.0,<1.6,>1.1 in /opt/anaconda3/lib/python3.9/site-packages (from ydata-profiling->pandas_profiling) (1.3.4)\n",
      "Requirement already satisfied: matplotlib<3.7,>=3.2 in /opt/anaconda3/lib/python3.9/site-packages (from ydata-profiling->pandas_profiling) (3.5.1)\n",
      "Collecting pydantic<1.11,>=1.8.1 (from ydata-profiling->pandas_profiling)\n",
      "  Downloading pydantic-1.10.7-cp39-cp39-macosx_10_9_x86_64.whl (2.9 MB)\n",
      "\u001b[2K     \u001b[90m━━━━━━━━━━━━━━━━━━━━━━━━━━━━━━━━━━━━━━━━\u001b[0m \u001b[32m2.9/2.9 MB\u001b[0m \u001b[31m9.8 MB/s\u001b[0m eta \u001b[36m0:00:00\u001b[0mta \u001b[36m0:00:01\u001b[0m\n",
      "\u001b[?25hRequirement already satisfied: PyYAML<6.1,>=5.0.0 in /opt/anaconda3/lib/python3.9/site-packages (from ydata-profiling->pandas_profiling) (6.0)\n",
      "Requirement already satisfied: jinja2<3.2,>=2.11.1 in /opt/anaconda3/lib/python3.9/site-packages (from ydata-profiling->pandas_profiling) (3.0.2)\n",
      "Collecting visions[type_image_path]==0.7.5 (from ydata-profiling->pandas_profiling)\n",
      "  Using cached visions-0.7.5-py3-none-any.whl (102 kB)\n",
      "Requirement already satisfied: numpy<1.24,>=1.16.0 in /opt/anaconda3/lib/python3.9/site-packages (from ydata-profiling->pandas_profiling) (1.21.3)\n",
      "Collecting htmlmin==0.1.12 (from ydata-profiling->pandas_profiling)\n",
      "  Using cached htmlmin-0.1.12-py3-none-any.whl\n",
      "Collecting phik<0.13,>=0.11.1 (from ydata-profiling->pandas_profiling)\n",
      "  Downloading phik-0.12.3-cp39-cp39-macosx_10_13_x86_64.whl (652 kB)\n",
      "\u001b[2K     \u001b[90m━━━━━━━━━━━━━━━━━━━━━━━━━━━━━━━━━━━━━━\u001b[0m \u001b[32m653.0/653.0 kB\u001b[0m \u001b[31m12.2 MB/s\u001b[0m eta \u001b[36m0:00:00\u001b[0ma \u001b[36m0:00:01\u001b[0m\n",
      "\u001b[?25hRequirement already satisfied: requests<2.29,>=2.24.0 in /opt/anaconda3/lib/python3.9/site-packages (from ydata-profiling->pandas_profiling) (2.26.0)\n",
      "Requirement already satisfied: tqdm<4.65,>=4.48.2 in /opt/anaconda3/lib/python3.9/site-packages (from ydata-profiling->pandas_profiling) (4.62.3)\n",
      "Requirement already satisfied: seaborn<0.13,>=0.10.1 in /opt/anaconda3/lib/python3.9/site-packages (from ydata-profiling->pandas_profiling) (0.11.2)\n",
      "Collecting multimethod<1.10,>=1.4 (from ydata-profiling->pandas_profiling)\n",
      "  Using cached multimethod-1.9.1-py3-none-any.whl (10 kB)\n",
      "Requirement already satisfied: statsmodels<0.14,>=0.13.2 in /opt/anaconda3/lib/python3.9/site-packages (from ydata-profiling->pandas_profiling) (0.13.2)\n",
      "Collecting typeguard<2.14,>=2.13.2 (from ydata-profiling->pandas_profiling)\n",
      "  Using cached typeguard-2.13.3-py3-none-any.whl (17 kB)\n",
      "Collecting imagehash==4.3.1 (from ydata-profiling->pandas_profiling)\n",
      "  Using cached ImageHash-4.3.1-py2.py3-none-any.whl (296 kB)\n",
      "Requirement already satisfied: PyWavelets in /opt/anaconda3/lib/python3.9/site-packages (from imagehash==4.3.1->ydata-profiling->pandas_profiling) (1.3.0)\n",
      "Requirement already satisfied: pillow in /opt/anaconda3/lib/python3.9/site-packages (from imagehash==4.3.1->ydata-profiling->pandas_profiling) (9.0.1)\n",
      "Requirement already satisfied: attrs>=19.3.0 in /opt/anaconda3/lib/python3.9/site-packages (from visions[type_image_path]==0.7.5->ydata-profiling->pandas_profiling) (21.4.0)\n",
      "Requirement already satisfied: networkx>=2.4 in /opt/anaconda3/lib/python3.9/site-packages (from visions[type_image_path]==0.7.5->ydata-profiling->pandas_profiling) (2.7.1)\n",
      "Collecting tangled-up-in-unicode>=0.0.4 (from visions[type_image_path]==0.7.5->ydata-profiling->pandas_profiling)\n",
      "  Using cached tangled_up_in_unicode-0.2.0-py3-none-any.whl (4.7 MB)\n",
      "Requirement already satisfied: MarkupSafe>=2.0 in /opt/anaconda3/lib/python3.9/site-packages (from jinja2<3.2,>=2.11.1->ydata-profiling->pandas_profiling) (2.0.1)\n",
      "Requirement already satisfied: cycler>=0.10 in /opt/anaconda3/lib/python3.9/site-packages (from matplotlib<3.7,>=3.2->ydata-profiling->pandas_profiling) (0.11.0)\n",
      "Requirement already satisfied: fonttools>=4.22.0 in /opt/anaconda3/lib/python3.9/site-packages (from matplotlib<3.7,>=3.2->ydata-profiling->pandas_profiling) (4.25.0)\n",
      "Requirement already satisfied: kiwisolver>=1.0.1 in /opt/anaconda3/lib/python3.9/site-packages (from matplotlib<3.7,>=3.2->ydata-profiling->pandas_profiling) (1.3.2)\n",
      "Requirement already satisfied: packaging>=20.0 in /opt/anaconda3/lib/python3.9/site-packages (from matplotlib<3.7,>=3.2->ydata-profiling->pandas_profiling) (21.3)\n",
      "Requirement already satisfied: pyparsing>=2.2.1 in /opt/anaconda3/lib/python3.9/site-packages (from matplotlib<3.7,>=3.2->ydata-profiling->pandas_profiling) (3.0.4)\n",
      "Requirement already satisfied: python-dateutil>=2.7 in /opt/anaconda3/lib/python3.9/site-packages (from matplotlib<3.7,>=3.2->ydata-profiling->pandas_profiling) (2.8.2)\n",
      "Requirement already satisfied: pytz>=2017.3 in /opt/anaconda3/lib/python3.9/site-packages (from pandas!=1.4.0,<1.6,>1.1->ydata-profiling->pandas_profiling) (2021.3)\n",
      "Requirement already satisfied: joblib>=0.14.1 in /opt/anaconda3/lib/python3.9/site-packages (from phik<0.13,>=0.11.1->ydata-profiling->pandas_profiling) (1.1.0)\n",
      "Collecting typing-extensions>=4.2.0 (from pydantic<1.11,>=1.8.1->ydata-profiling->pandas_profiling)\n",
      "  Downloading typing_extensions-4.6.0-py3-none-any.whl (30 kB)\n",
      "Requirement already satisfied: urllib3<1.27,>=1.21.1 in /opt/anaconda3/lib/python3.9/site-packages (from requests<2.29,>=2.24.0->ydata-profiling->pandas_profiling) (1.26.15)\n",
      "Requirement already satisfied: certifi>=2017.4.17 in /opt/anaconda3/lib/python3.9/site-packages (from requests<2.29,>=2.24.0->ydata-profiling->pandas_profiling) (2021.10.8)\n",
      "Requirement already satisfied: charset-normalizer~=2.0.0 in /opt/anaconda3/lib/python3.9/site-packages (from requests<2.29,>=2.24.0->ydata-profiling->pandas_profiling) (2.0.7)\n",
      "Requirement already satisfied: idna<4,>=2.5 in /opt/anaconda3/lib/python3.9/site-packages (from requests<2.29,>=2.24.0->ydata-profiling->pandas_profiling) (3.3)\n",
      "Requirement already satisfied: patsy>=0.5.2 in /opt/anaconda3/lib/python3.9/site-packages (from statsmodels<0.14,>=0.13.2->ydata-profiling->pandas_profiling) (0.5.2)\n",
      "Requirement already satisfied: six in /opt/anaconda3/lib/python3.9/site-packages (from patsy>=0.5.2->statsmodels<0.14,>=0.13.2->ydata-profiling->pandas_profiling) (1.16.0)\n",
      "Installing collected packages: htmlmin, typing-extensions, typeguard, tangled-up-in-unicode, multimethod, pydantic, imagehash, visions, phik, ydata-profiling, pandas_profiling\n",
      "  Attempting uninstall: typing-extensions\n",
      "    Found existing installation: typing_extensions 4.1.1\n",
      "    Uninstalling typing_extensions-4.1.1:\n",
      "      Successfully uninstalled typing_extensions-4.1.1\n",
      "Successfully installed htmlmin-0.1.12 imagehash-4.3.1 multimethod-1.9.1 pandas_profiling-3.6.6 phik-0.12.3 pydantic-1.10.7 tangled-up-in-unicode-0.2.0 typeguard-2.13.3 typing-extensions-4.6.0 visions-0.7.5 ydata-profiling-4.1.2\n"
     ]
    }
   ],
   "source": [
    "! pip install pandas_profiling"
   ]
  },
  {
   "cell_type": "code",
   "execution_count": 5,
   "metadata": {},
   "outputs": [],
   "source": [
    "import numpy as np\n",
    "import pandas as pd \n",
    "import matplotlib.pyplot as plt\n",
    "import seaborn as sns\n",
    "import ydata_profiling as pp\n",
    "import plotly.graph_objs as go\n",
    "from plotly.offline import iplot\n",
    "import plotly.express as px"
   ]
  },
  {
   "cell_type": "code",
   "execution_count": null,
   "metadata": {},
   "outputs": [],
   "source": []
  }
 ],
 "metadata": {
  "kernelspec": {
   "display_name": "Python 3 (ipykernel)",
   "language": "python",
   "name": "python3"
  },
  "language_info": {
   "codemirror_mode": {
    "name": "ipython",
    "version": 3
   },
   "file_extension": ".py",
   "mimetype": "text/x-python",
   "name": "python",
   "nbconvert_exporter": "python",
   "pygments_lexer": "ipython3",
   "version": "3.9.12"
  }
 },
 "nbformat": 4,
 "nbformat_minor": 2
}
